{
 "cells": [
  {
   "cell_type": "markdown",
   "id": "0ff5df45-16f4-4fac-8d60-7496daf43bf4",
   "metadata": {},
   "source": [
    "# SRM | Signal Request Message Counts\n",
    "Notebook to calculate SRM counts\n",
    "\n",
    "Version | Date | Author | Notes |\n",
    ":------:|:----:|:------:|:--------\n",
    "1.0     | 21 July 2022 | Ken Dizon - CDOT OIM  | Initial version \n",
    "1.1     | 10 Nov 2022  | Ken Dizon - CDOT OIM  | Query Input Parameters\n",
    "2.0     | 07 Feb 2023  | Ken Dizon - CDOT OIM  | Data Visualization\n",
    "\n",
    "**[OBU] sends ➡ SRM**\n",
    "- Locate valid Signal Request Messages in a RSU.\n",
    "- SRM (Signal Request Message) as not all intersections will receive a request.\n",
    "- Broadcast by a vehicle (OnBoard Unit) to infrastructure (Roadside Unit)\n",
    "\n",
    "_______________\n",
    "**Content**\n",
    "- Libraries & Packages\n",
    "- SQL Setup & Parameters\n",
    "- Query\n",
    "1. SRM: Signal Request Message\n",
    "    * 1.1 Counts\n",
    "    * 1.2 Visualization"
   ]
  },
  {
   "cell_type": "code",
   "execution_count": 3,
   "id": "7f0d6d2a-bf73-4c5d-bfc6-d1e40e6375d7",
   "metadata": {
    "tags": []
   },
   "outputs": [],
   "source": [
    "# Importing Libraries\n",
    "from google.cloud import bigquery\n",
    "\n",
    "import pandas as pd\n",
    "import numpy as np\n",
    "import matplotlib.pyplot as plt\n",
    "%matplotlib inline\n",
    "\n",
    "from datetime import (datetime, timedelta)"
   ]
  },
  {
   "cell_type": "markdown",
   "id": "ab79a11f-e352-4017-964b-d80c5c7cc9b7",
   "metadata": {},
   "source": [
    "SQL Big Query Setup & Parameters"
   ]
  },
  {
   "cell_type": "code",
   "execution_count": 9,
   "id": "621fd18f-bc07-48be-b5e8-febecbbc119a",
   "metadata": {
    "tags": []
   },
   "outputs": [
    {
     "name": "stdout",
     "output_type": "stream",
     "text": [
      "Client creating using default project: cdot-adap-wb-stage\n"
     ]
    }
   ],
   "source": [
    "# BigQuery Connection\n",
    "client = bigquery.Client(location=\"US\", project=\"cdot-adap-wb-stage\")\n",
    "print(\"Client creating using default project: {}\".format(client.project))"
   ]
  },
  {
   "cell_type": "code",
   "execution_count": 8,
   "id": "8615d596-2939-4617-b32d-38e83090ee3a",
   "metadata": {
    "tags": []
   },
   "outputs": [
    {
     "name": "stdin",
     "output_type": "stream",
     "text": [
      "Enter a start date in (YYYY-MM-DD):  2023-01-01\n",
      "Enter number of days:  30\n"
     ]
    },
    {
     "name": "stdout",
     "output_type": "stream",
     "text": [
      "End date: 2023-01-31\n"
     ]
    }
   ],
   "source": [
    "# From a start date and input number of days after\n",
    "start_date = input('Enter a start date in (YYYY-MM-DD): ')\n",
    "start_date = datetime.strptime(start_date, \"%Y-%m-%d\").date()\n",
    "\n",
    "num_days = int(input(\"Enter number of days: \"))\n",
    "end_date = start_date + timedelta(days=num_days)\n",
    "print('End date:', end_date)"
   ]
  },
  {
   "cell_type": "markdown",
   "id": "477ac79c-3c00-491f-b8d4-9987ccbec20f",
   "metadata": {},
   "source": [
    "Query"
   ]
  },
  {
   "cell_type": "code",
   "execution_count": 10,
   "id": "8e7f576f-c7f7-4552-ae41-a8aba286801d",
   "metadata": {
    "tags": []
   },
   "outputs": [
    {
     "name": "stdout",
     "output_type": "stream",
     "text": [
      "CPU times: user 41 µs, sys: 9 µs, total: 50 µs\n",
      "Wall time: 54.4 µs\n"
     ]
    }
   ],
   "source": [
    "%%time\n",
    "\n",
    "query = \"\"\"\n",
    "SELECT\n",
    "    srm.metadata.originIp AS rsuIP,\n",
    "    DATE(\n",
    "        EXTRACT(YEAR FROM TIMESTAMP(srm.metadata.odeReceivedAt) AT TIME ZONE \"America/Denver\"),\n",
    "        EXTRACT(MONTH FROM TIMESTAMP(srm.metadata.odeReceivedAt) AT TIME ZONE \"America/Denver\"),\n",
    "        EXTRACT(DAY FROM TIMESTAMP(srm.metadata.odeReceivedAt) AT TIME ZONE \"America/Denver\")\n",
    "    ) AS localDate,\n",
    "    count(1) AS SRM_count\n",
    "FROM cdot-adap-prod.raw_from_rtdh_standard.cv_srm_standard\n",
    "WHERE srm.metadata.originIp LIKE @Region1\n",
    "    AND DATETIME(TIMESTAMP(srm.metadata.odeReceivedAt), \\\"America/Denver\\\") BETWEEN @start_date AND @end_date\n",
    "GROUP BY localDate, rsuIP\n",
    "ORDER BY localDate, rsuIP\n",
    "\"\"\"\n",
    "\n",
    "query_params = [ \n",
    "    bigquery.ScalarQueryParameter(\"Region1\", \"STRING\", '%10.11.81%'), # displays SRM counts by using all RSUs from 10.11.81.## located on Wadsworth Blvd\n",
    "    bigquery.ScalarQueryParameter(\"start_date\", \"DATE\", start_date), \n",
    "    bigquery.ScalarQueryParameter(\"end_date\", \"DATE\", end_date), \n",
    "]\n",
    "\n",
    "job_config = bigquery.QueryJobConfig()\n",
    "job_config.query_parameters = query_params"
   ]
  },
  {
   "cell_type": "markdown",
   "id": "42279191-2aa1-4591-80cd-764e68eeefc7",
   "metadata": {},
   "source": [
    "## Signal Request Message"
   ]
  },
  {
   "cell_type": "code",
   "execution_count": 11,
   "id": "362a93d6-8d47-46ff-9e77-9d0731d40d3b",
   "metadata": {
    "tags": []
   },
   "outputs": [
    {
     "data": {
      "text/html": [
       "<div>\n",
       "<style scoped>\n",
       "    .dataframe tbody tr th:only-of-type {\n",
       "        vertical-align: middle;\n",
       "    }\n",
       "\n",
       "    .dataframe tbody tr th {\n",
       "        vertical-align: top;\n",
       "    }\n",
       "\n",
       "    .dataframe thead th {\n",
       "        text-align: right;\n",
       "    }\n",
       "</style>\n",
       "<table border=\"1\" class=\"dataframe\">\n",
       "  <thead>\n",
       "    <tr style=\"text-align: right;\">\n",
       "      <th></th>\n",
       "      <th>rsuIP</th>\n",
       "      <th>localDate</th>\n",
       "      <th>SRM_count</th>\n",
       "    </tr>\n",
       "  </thead>\n",
       "  <tbody>\n",
       "    <tr>\n",
       "      <th>0</th>\n",
       "      <td>10.11.81.18</td>\n",
       "      <td>2023-01-01</td>\n",
       "      <td>95</td>\n",
       "    </tr>\n",
       "    <tr>\n",
       "      <th>1</th>\n",
       "      <td>10.11.81.19</td>\n",
       "      <td>2023-01-01</td>\n",
       "      <td>74</td>\n",
       "    </tr>\n",
       "    <tr>\n",
       "      <th>2</th>\n",
       "      <td>10.11.81.14</td>\n",
       "      <td>2023-01-02</td>\n",
       "      <td>111</td>\n",
       "    </tr>\n",
       "    <tr>\n",
       "      <th>3</th>\n",
       "      <td>10.11.81.18</td>\n",
       "      <td>2023-01-02</td>\n",
       "      <td>480</td>\n",
       "    </tr>\n",
       "    <tr>\n",
       "      <th>4</th>\n",
       "      <td>10.11.81.19</td>\n",
       "      <td>2023-01-02</td>\n",
       "      <td>437</td>\n",
       "    </tr>\n",
       "  </tbody>\n",
       "</table>\n",
       "</div>"
      ],
      "text/plain": [
       "         rsuIP   localDate  SRM_count\n",
       "0  10.11.81.18  2023-01-01         95\n",
       "1  10.11.81.19  2023-01-01         74\n",
       "2  10.11.81.14  2023-01-02        111\n",
       "3  10.11.81.18  2023-01-02        480\n",
       "4  10.11.81.19  2023-01-02        437"
      ]
     },
     "execution_count": 11,
     "metadata": {},
     "output_type": "execute_result"
    }
   ],
   "source": [
    "# execute the query\n",
    "SRM = client.query(query, job_config=job_config).to_dataframe()\n",
    "SRM.head()"
   ]
  },
  {
   "cell_type": "code",
   "execution_count": 12,
   "id": "7b1af674-39f6-4d1f-be05-4dc5b7af2fc1",
   "metadata": {
    "tags": []
   },
   "outputs": [],
   "source": [
    "# pivot\n",
    "SRMCountTable = pd.pivot(SRM,index='localDate', columns='rsuIP', values='SRM_count').fillna(0)"
   ]
  },
  {
   "cell_type": "code",
   "execution_count": 13,
   "id": "c32da88f-c771-44db-8ef9-6ac179f64ff2",
   "metadata": {
    "tags": []
   },
   "outputs": [
    {
     "data": {
      "image/png": "[encoded data removed]",
      "text/plain": [
       "<Figure size 2000x500 with 1 Axes>"
      ]
     },
     "metadata": {},
     "output_type": "display_data"
    }
   ],
   "source": [
    "# Plot a bar chart using the PivotTable\n",
    "ax = SRMCountTable.plot(kind=\"bar\")\n",
    "\n",
    "fig = ax.get_figure()\n",
    "fig.set_size_inches(20, 5)\n",
    "\n",
    "# Add some labels and a legend\n",
    "ax.set_title('SRM counts by Device and Date')\n",
    "ax.legend(title='Device IP')\n",
    "ax.set_xlabel('Date')\n",
    "ax.set_ylabel('SRM Counts')\n",
    "plt.xticks(rotation=45)\n",
    "plt.show()"
   ]
  }
 ],
 "metadata": {
  "environment": {
   "kernel": "python3",
   "name": "common-cpu.m102",
   "type": "gcloud",
   "uri": "gcr.io/deeplearning-platform-release/base-cpu:m102"
  },
  "kernelspec": {
   "display_name": "Python 3 (ipykernel)",
   "language": "python",
   "name": "python3"
  },
  "language_info": {
   "codemirror_mode": {
    "name": "ipython",
    "version": 3
   },
   "file_extension": ".py",
   "mimetype": "text/x-python",
   "name": "python",
   "nbconvert_exporter": "python",
   "pygments_lexer": "ipython3",
   "version": "3.7.12"
  }
 },
 "nbformat": 4,
 "nbformat_minor": 5
}
